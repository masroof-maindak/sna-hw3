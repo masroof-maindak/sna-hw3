{
 "cells": [
  {
   "cell_type": "code",
   "execution_count": 112,
   "id": "b5463879",
   "metadata": {},
   "outputs": [],
   "source": [
    "import sys\n",
    "\n",
    "import numpy as np\n",
    "import pandas as pd\n",
    "from sklearn.datasets import load_iris\n",
    "from sklearn.model_selection import train_test_split"
   ]
  },
  {
   "cell_type": "code",
   "execution_count": 126,
   "id": "fd183a17",
   "metadata": {},
   "outputs": [],
   "source": [
    "X, y = load_iris(return_X_y=True)\n",
    "\n",
    "# Eliminate class entirely\n",
    "mask = y != 1\n",
    "X, y = X[mask], y[mask]\n",
    "\n",
    "# Fix labels -- 2 to 1 and 0 to -1\n",
    "y = np.where(y == 2, 1, -1)\n",
    "\n",
    "X_train, X_test, y_train, y_test = train_test_split(\n",
    "    X, y, test_size=0.3, random_state=21, stratify=y\n",
    ")"
   ]
  },
  {
   "cell_type": "code",
   "execution_count": null,
   "id": "11ee2484",
   "metadata": {},
   "outputs": [],
   "source": [
    "class Perceptron:\n",
    "    def __init__(self, iters: int = 1000):\n",
    "        self.iters: int = iters\n",
    "        self.w = None\n",
    "\n",
    "    def fit(self, X_train, y_train) -> None:\n",
    "        if self.w is not None:\n",
    "            print(\"Overwriting previous weights.\", file=sys.stderr)\n",
    "\n",
    "        n_dim: int = X_train[0].shape[0]\n",
    "        self.w = np.random.randn(n_dim)\n",
    "\n",
    "        for i in range(self.iters):\n",
    "            for x, y in zip(X_train, y_train):\n",
    "                if y * (self.w @ x) < 0:\n",
    "                    self.w = self.w + (y * x)\n",
    "\n",
    "        return\n",
    "\n",
    "    def predict(self, X_test):\n",
    "        if self.w is None:\n",
    "            raise RuntimeError(\"Model has not been trained.\")\n",
    "\n",
    "        n_rows: int = X_test.shape[0]\n",
    "        y_pred = np.zeros(n_rows)\n",
    "        \n",
    "        for i, x in enumerate(X_test):\n",
    "            y_pred[i] = 1 if self.w @ x > 0 else -1\n",
    "\n",
    "        return y_pred"
   ]
  },
  {
   "cell_type": "code",
   "execution_count": 191,
   "id": "fdcf8bdc",
   "metadata": {},
   "outputs": [
    {
     "data": {
      "text/plain": [
       "np.float64(1.0)"
      ]
     },
     "execution_count": 191,
     "metadata": {},
     "output_type": "execute_result"
    }
   ],
   "source": [
    "p = Perceptron()\n",
    "\n",
    "p.fit(X_train, y_train)\n",
    "y_pred = p.predict(X_test)\n",
    "correct = (y_pred == y_test).mean()\n",
    "\n",
    "correct"
   ]
  },
  {
   "cell_type": "code",
   "execution_count": null,
   "id": "95792af8",
   "metadata": {},
   "outputs": [],
   "source": [
    "# TODO: try w/ sklearn's Perceptron"
   ]
  }
 ],
 "metadata": {
  "kernelspec": {
   "display_name": ".venv",
   "language": "python",
   "name": "python3"
  },
  "language_info": {
   "codemirror_mode": {
    "name": "ipython",
    "version": 3
   },
   "file_extension": ".py",
   "mimetype": "text/x-python",
   "name": "python",
   "nbconvert_exporter": "python",
   "pygments_lexer": "ipython3",
   "version": "3.13.7"
  }
 },
 "nbformat": 4,
 "nbformat_minor": 5
}
