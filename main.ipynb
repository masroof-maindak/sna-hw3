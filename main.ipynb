{
 "cells": [
  {
   "cell_type": "code",
   "execution_count": 1,
   "id": "b5463879",
   "metadata": {},
   "outputs": [],
   "source": [
    "import sys\n",
    "\n",
    "import numpy as np\n",
    "import pandas as pd\n",
    "from sklearn.datasets import load_breast_cancer\n",
    "from sklearn.linear_model import Perceptron as SkPerceptron\n",
    "from sklearn.metrics import accuracy_score\n",
    "from sklearn.model_selection import train_test_split\n",
    "from sklearn.neighbors import KNeighborsClassifier\n",
    "\n",
    "SEED: int = 2132"
   ]
  },
  {
   "cell_type": "code",
   "execution_count": 2,
   "id": "fd183a17",
   "metadata": {},
   "outputs": [],
   "source": [
    "X, y = load_breast_cancer(return_X_y=True)\n",
    "\n",
    "y = np.where(y == 1, 1, -1)\n",
    "\n",
    "X_train, X_test, y_train, y_test = train_test_split(\n",
    "    X, y, test_size=0.3, random_state=SEED, stratify=y\n",
    ")"
   ]
  },
  {
   "cell_type": "code",
   "execution_count": 3,
   "id": "11ee2484",
   "metadata": {},
   "outputs": [],
   "source": [
    "class Perceptron:\n",
    "    def __init__(self, iters: int = 1000):\n",
    "        self.iters: int = iters\n",
    "        self.w = None\n",
    "\n",
    "    def fit(self, X_train, y_train) -> None:\n",
    "        if self.w is not None:\n",
    "            print(\"Overwriting previous weights.\", file=sys.stderr)\n",
    "\n",
    "        n_dim: int = X_train[0].shape[0]\n",
    "\n",
    "        # self.w = np.random.randn(n_dim)\n",
    "\n",
    "        rng = np.random.default_rng(SEED)\n",
    "        self.w = rng.standard_normal(n_dim)\n",
    "\n",
    "        for i in range(self.iters):\n",
    "            for x, y in zip(X_train, y_train):\n",
    "                if y * (self.w @ x) < 0:\n",
    "                    self.w = self.w + (y * x)\n",
    "\n",
    "        return\n",
    "\n",
    "    def predict(self, X_test):\n",
    "        if self.w is None:\n",
    "            raise RuntimeError(\"Model has not been trained.\")\n",
    "\n",
    "        n_rows: int = X_test.shape[0]\n",
    "        y_pred = np.zeros(n_rows)\n",
    "\n",
    "        for i, x in enumerate(X_test):\n",
    "            y_pred[i] = 1 if self.w @ x > 0 else -1\n",
    "\n",
    "        return y_pred"
   ]
  },
  {
   "cell_type": "code",
   "execution_count": 7,
   "id": "fdcf8bdc",
   "metadata": {},
   "outputs": [
    {
     "name": "stdout",
     "output_type": "stream",
     "text": [
      "Accuracy (Custom): 0.9239766081871345\n"
     ]
    }
   ],
   "source": [
    "p = Perceptron()\n",
    "p.fit(X_train, y_train)\n",
    "y_pred = p.predict(X_test)\n",
    "print(\"Accuracy (Custom):\", accuracy_score(y_test,y_pred))"
   ]
  },
  {
   "cell_type": "code",
   "execution_count": 8,
   "id": "95792af8",
   "metadata": {},
   "outputs": [
    {
     "name": "stdout",
     "output_type": "stream",
     "text": [
      "Accuracy (Scikit Perceptron): 0.9005847953216374\n"
     ]
    }
   ],
   "source": [
    "clf = SkPerceptron(tol=1e-3, random_state=SEED)\n",
    "clf.fit(X_train, y_train)\n",
    "y_pred = clf.predict(X_test)\n",
    "print(\"Accuracy (Scikit Perceptron):\", accuracy_score(y_test,y_pred))"
   ]
  },
  {
   "cell_type": "code",
   "execution_count": 6,
   "id": "76b39d9b",
   "metadata": {},
   "outputs": [
    {
     "name": "stdout",
     "output_type": "stream",
     "text": [
      "Accuracy (Scikit KNN): 0.8947368421052632\n"
     ]
    }
   ],
   "source": [
    "knn = KNeighborsClassifier(n_neighbors=2)\n",
    "knn.fit(X_train, y_train)\n",
    "y_pred = knn.predict(X_test)\n",
    "print(\"Accuracy (Scikit KNN):\", accuracy_score(y_test,y_pred))"
   ]
  }
 ],
 "metadata": {
  "kernelspec": {
   "display_name": ".venv",
   "language": "python",
   "name": "python3"
  },
  "language_info": {
   "codemirror_mode": {
    "name": "ipython",
    "version": 3
   },
   "file_extension": ".py",
   "mimetype": "text/x-python",
   "name": "python",
   "nbconvert_exporter": "python",
   "pygments_lexer": "ipython3",
   "version": "3.13.7"
  }
 },
 "nbformat": 4,
 "nbformat_minor": 5
}
